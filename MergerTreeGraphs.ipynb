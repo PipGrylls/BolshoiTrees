{
 "cells": [
  {
   "cell_type": "code",
   "execution_count": 1,
   "metadata": {
    "collapsed": true
   },
   "outputs": [],
   "source": [
    "import numpy as np #alloys numpy arrays to be used\n",
    "import matplotlib as mpl #see next comment\n",
    "import matplotlib.pyplot as plt #allows use of plt. to plot figures\n",
    "import pandas as pd\n",
    "import networkx as nx #https://networkx.readthedocs.io/en/stable/index.html  #Aric A. Hagberg, Daniel A. Schult and Pieter J. Swart, “Exploring network structure, dynamics, and function using NetworkX”, in Proceedings of the 7th Python in Science Conference (SciPy2008), Gäel Varoquaux, Travis Vaught, and Jarrod Millman (Eds), (Pasadena, CA USA), pp. 11–15, Aug 2008\n",
    "import os\n",
    "from NXFunc import * #imports all my functions from MergerTreeGraphs \n",
    "%matplotlib inline"
   ]
  },
  {
   "cell_type": "code",
   "execution_count": 3,
   "metadata": {
    "collapsed": true
   },
   "outputs": [],
   "source": [
    "Header = [\"scale\", \"id\", \"desc_scale\", \"desc_id\", \"num_prog\", \"pid\", \"upid\", \"desc_pid\", \"phantom\", \"sam_mvir\", \"mvir\", \"rvir\", \"rs\", \"vrms\", \"mmp\", \"scale_of_last_MM\", \"vmax\", \"x\", \"y\", \"z\", \"vx\", \"vy\", \"vz\", \"Jx\", \"Jy\", \"Jz\", \"Spin\", \"Breadth_first_ID\", \"Depth_first_ID\", \"Tree_root_ID\", \"Orig_halo_ID\", \"Snap_num\", \"Next_coprogenitor_depthfirst_ID\", \"Last_progenitor_depthfirst_ID\", \"Last_mainleaf_depthfirst_ID\", \"Tidal_Force\", \"Tidal_ID\", \"Rs_Klypin\", \"Mvir_all\", \"M200b\", \"M200c\", \"M500c\", \"M2500c\", \"Xoff\", \"Voff\", \"Spin_Bullock\", \"b_to_a\", \"c_to_a\", \"Ax\", \"Ay\", \"Az\", \"b_to_a500c\", \"c_to_a500c\", \"Ax500c\", \"Ay500c\", \"Az500c\", \"T/|U|\", \"M_pe_Behroozi\", \"M_pe_Diemer\" ]"
   ]
  },
  {
   "cell_type": "markdown",
   "metadata": {},
   "source": [
    "Finds the first merger tree above a given size"
   ]
  },
  {
   "cell_type": "code",
   "execution_count": null,
   "metadata": {
    "scrolled": true
   },
   "outputs": [],
   "source": [
    "Size = 13\n",
    "Files = os.listdir(\"/data/B-P50Mpc/Processed\")\n",
    "for File in Files:\n",
    "    df = pd.read_csv(\"/data/B-P50Mpc/Processed/%s\" %(File), delim_whitespace = True, names = Header)\n",
    "    if(np.log10(df[df.scale == 1.00231].M200c[0])>Size):\n",
    "        print(File)\n",
    "        break"
   ]
  },
  {
   "cell_type": "code",
   "execution_count": 4,
   "metadata": {},
   "outputs": [],
   "source": [
    "df = pd.read_csv(\"/data/B-P50Mpc/Processed/Tree2809667873.dat\", delim_whitespace = True, names = Header)"
   ]
  },
  {
   "cell_type": "code",
   "execution_count": null,
   "metadata": {
    "collapsed": true
   },
   "outputs": [],
   "source": [
    "#df = pd.read_csv(\"/data/B-P50Mpc/Above12/Tree746490.dat\", delim_whitespace = True, names = Header)"
   ]
  },
  {
   "cell_type": "code",
   "execution_count": 5,
   "metadata": {},
   "outputs": [
    {
     "name": "stderr",
     "output_type": "stream",
     "text": [
      "/home/pg1g15/anaconda3/lib/python3.5/site-packages/ipykernel/__main__.py:1: RuntimeWarning: divide by zero encountered in log10\n",
      "  if __name__ == '__main__':\n"
     ]
    }
   ],
   "source": [
    "df.M200c = np.log10(df.M200c) #turns m200c into a log10 m200c"
   ]
  },
  {
   "cell_type": "code",
   "execution_count": 6,
   "metadata": {
    "scrolled": true
   },
   "outputs": [
    {
     "name": "stdout",
     "output_type": "stream",
     "text": [
      "              id    scale      M200c        upid  mmp     desc_id\n",
      "0     2809667873  1.00231  13.090752          -1    1          -1\n",
      "1     2796585936  0.99472  13.086039          -1    1  2809667873\n",
      "2     2783301630  0.98712  13.079615          -1    1  2796585936\n",
      "3     2783301631  0.98712   8.667360  2783301630    0  2796585936\n",
      "4     2769846645  0.97953  13.070518          -1    1  2783301630\n",
      "5     2769846646  0.97953   8.491264  2769846645    0  2783301630\n",
      "6     2769846648  0.97953   8.667360  2769846645    1  2783301631\n",
      "7     2756389249  0.97193  13.058388          -1    1  2769846645\n",
      "8     2756389250  0.97193   8.190248  2756389249    1  2769846646\n",
      "9     2756389252  0.97193   8.667360  2756389249    1  2769846648\n",
      "10    2742883664  0.96434  13.037426          -1    1  2756389249\n",
      "11    2742883665  0.96434   9.588182  2742883664    0  2756389249\n",
      "12    2742883667  0.96434   8.792301  2742883664    1  2756389250\n",
      "13    2742883669  0.96434   8.667360  2742883664    1  2756389252\n",
      "14    2729323168  0.95675  12.988550          -1    1  2742883664\n",
      "15    2729323169  0.95675   9.667360  2729323168    1  2742883665\n",
      "16    2729323171  0.95675   8.792301  2729323168    1  2742883667\n",
      "17    2729323173  0.95675   8.667360  2729323168    1  2742883669\n",
      "18    2715731340  0.94915  12.948315          -1    1  2729323168\n",
      "19    2715731343  0.94915   9.734304  2715731340    1  2729323169\n",
      "20    2715731345  0.94915   8.889206  2715731340    1  2729323171\n",
      "21    2715731346  0.94915   8.667360  2715731340    1  2729323173\n",
      "22    2702099134  0.94156  12.925766          -1    1  2715731340\n",
      "23    2702099138  0.94156   9.823709  2702099134    1  2715731343\n",
      "24    2702099139  0.94156   8.889206  2702099134    1  2715731345\n",
      "25    2702099140  0.94156   8.667360  2702099134    1  2715731346\n",
      "26    2688423512  0.93397  12.905931          -1    1  2702099134\n",
      "27    2688423513  0.93397   9.035350  2688423512    0  2702099134\n",
      "28    2688423515  0.93397       -inf  2688423512    0  2702099134\n",
      "29    2688423520  0.93397   9.813488  2688423512    1  2702099138\n",
      "...          ...      ...        ...         ...  ...         ...\n",
      "7384     7945954  0.09612   8.968390          -1    1    10481400\n",
      "7385     7945956  0.09612   9.269420          -1    1    10481402\n",
      "7386     7945957  0.09612   9.491264          -1    1    10481403\n",
      "7387     7945958  0.09612   9.652633          -1    1    10481405\n",
      "7388     7945964  0.09612   9.667360          -1    1    10481411\n",
      "7389     7945965  0.09612   9.480273          -1    1    10481413\n",
      "7390     7945966  0.09612       -inf          -1    1    10481414\n",
      "7391     7945968  0.09612   9.231622          -1    1    10481417\n",
      "7392     7945970  0.09612   9.231622          -1    1    10481419\n",
      "7393     7945971  0.09612   9.734304          -1    1    10481420\n",
      "7394     7945975  0.09612   9.366330          -1    1    10481426\n",
      "7395     7945976  0.09612   9.336360          -1    1    10481427\n",
      "7396     5895208  0.09275   9.304189          -1    1     7945951\n",
      "7397     5895211  0.09275   8.930600          -1    1     7945954\n",
      "7398     5895213  0.09275   9.445511          -1    1     7945957\n",
      "7399     5895214  0.09275   9.468997          -1    1     7945958\n",
      "7400     5895219  0.09275   9.445511          -1    1     7945964\n",
      "7401     5895220  0.09275   9.366330          -1    1     7945965\n",
      "7402     5895225  0.09275   9.605208          -1    1     7945971\n",
      "7403     5895228  0.09275   9.231622          -1    1     7945976\n",
      "7404     4273734  0.08937   9.269420          -1    1     5895208\n",
      "7405     4273737  0.08937   8.889206          -1    1     5895211\n",
      "7406     4273739  0.08937   9.336360          -1    1     5895213\n",
      "7407     4273744  0.08937   9.190248          -1    1     5895219\n",
      "7408     4273745  0.08937   9.211428          -1    1     5895220\n",
      "7409     4273750  0.08937   9.366330          -1    1     5895225\n",
      "7410     3024695  0.08600   8.968390          -1    1     4273745\n",
      "7411     3024697  0.08600   9.190248          -1    1     4273750\n",
      "7412     2092092  0.08262   9.304189          -1    1     3024695\n",
      "7413     1417175  0.08037   9.366330          -1    1     2092092\n",
      "\n",
      "[7414 rows x 6 columns]\n"
     ]
    }
   ],
   "source": [
    "print(df.loc[:,['id','scale','M200c', 'upid', 'mmp', 'desc_id']]) #prints the things we care about from the DF"
   ]
  },
  {
   "cell_type": "code",
   "execution_count": null,
   "metadata": {},
   "outputs": [],
   "source": [
    "grouped = df.groupby('scale') # creates and prints a grouped version of the dataframe\n",
    "for name, group in grouped:\n",
    "    print(group.loc[:,['id','scale','M200c', 'upid', 'mmp', 'desc_id']])"
   ]
  },
  {
   "cell_type": "code",
   "execution_count": 7,
   "metadata": {},
   "outputs": [
    {
     "name": "stdout",
     "output_type": "stream",
     "text": [
      "2809667873\n"
     ]
    }
   ],
   "source": [
    "MPH = df.id[0]\n",
    "print(MPH)"
   ]
  },
  {
   "cell_type": "markdown",
   "metadata": {},
   "source": [
    "Reads DF to create network "
   ]
  },
  {
   "cell_type": "code",
   "execution_count": 12,
   "metadata": {},
   "outputs": [],
   "source": [
    "SF = 0.5\n",
    "DF = df[df.scale > SF]\n",
    "MergerTree = nx.from_pandas_dataframe(DF.drop(0), \"id\", \"desc_id\", edge_attr = \"mmp\", create_using = nx.Graph())\n",
    "nx.set_node_attributes(MergerTree, 'scale', pd.Series(DF.scale.values, index=DF.id).to_dict())\n",
    "nx.set_node_attributes(MergerTree, 'M200c', pd.Series(DF.M200c.values, index=DF.id).to_dict())\n",
    "nx.set_node_attributes(MergerTree, 'mmp', pd.Series(DF.mmp.values, index=DF.id).to_dict())\n",
    "nx.set_node_attributes(MergerTree, 'upid', pd.Series(DF.upid.values, index=DF.id).to_dict())\n",
    "nx.set_node_attributes(MergerTree, 'pid', pd.Series(DF.pid.values, index=DF.id).to_dict())"
   ]
  },
  {
   "cell_type": "code",
   "execution_count": 13,
   "metadata": {},
   "outputs": [],
   "source": [
    "#sets the colors and MP/SUB properties of the halos\n",
    "MPB = DefineMPB(MergerTree, MPH, MPB = [MPH])\n",
    "DefineSubHalos(MergerTree, MPH)"
   ]
  },
  {
   "cell_type": "code",
   "execution_count": 14,
   "metadata": {},
   "outputs": [
    {
     "name": "stdout",
     "output_type": "stream",
     "text": [
      "[[2809667873], [2796585936.0], [2783301630.0], [2769846645.0], [2756389249.0], [2742883664.0], [2729323168.0], [2715731340.0], [2702099134.0], [2688423512.0, 2674703432.0], [2674703419.0], [2660936545.0], [2647118831.0, 2633249648.0], [2633249635.0], [2619328533.0], [2605352351.0], [2591317076.0], [2577223957.0], [2563069520.0, 2548852497.0], [2548852483.0, 2534571474.0, 2534571477.0], [2534571464.0], [2520224700.0, 2505811933.0], [2505811924.0, 2491330008.0], [2491329988.0, 2476776395.0], [2476776382.0], [2462152236.0, 2447455458.0], [2447455447.0], [2432682080.0], [2417831893.0, 2402902330.0], [2402902322.0], [2387892376.0], [2372801575.0], [2357627198.0, 2342366568.0], [2342366551.0, 2327020111.0], [2327020085.0, 2311583876.0], [2311583863.0], [2296057837.0, 2280441406.0], [2280441388.0], [2264731856.0], [2248923275.0, 2233018312.0, 2233018315.0], [2233018302.0], [2217014407.0, 2200908405.0, 2200908429.0], [2200908401.0], [2184745792.0], [2168535402.0], [2152284448.0, 2135969320.0], [2135969308.0], [2119589717.0, 2103141907.0], [2103141879.0], [2086620462.0, 2070026201.0], [2070026187.0], [2053358207.0], [2036615378.0, 2019794667.0], [2019794657.0], [2002895198.0], [1985917092.0], [1968858773.0, 1951719344.0, 1951719343.0, 1951719347.0, 1951719359.0], [1951719334.0, 1934496265.0], [1934496257.0, 1917188218.0], [1917188195.0], [1899794574.0, 1882313557.0], [1882313549.0], [1864745869.0], [1847092000.0, 1829348299.0], [1829348268.0, 1811515772.0, 1811515777.0], [1811515750.0], [1793593265.0], [1775578272.0, 1757467530.0], [1757467529.0], [1739261552.0, 1720958642.0], [1720958630.0], [1702562409.0, 1684068069.0], [1684068068.0], [1665475674.0], [1646784900.0], [1627997102.0], [1609109914.0], [1590125219.0, 1571039089.0], [1571039085.0]]\n"
     ]
    }
   ],
   "source": [
    "#gets the Main prog branch\n",
    "MPB = DefineMPB(MergerTree, MPH, MPB = [MPH])\n",
    "\n",
    "#defines dubhalos\n",
    "DefineSubHalos(MergerTree, MPH)\n",
    "\n",
    "#Removes the doubble count\n",
    "RemoveDCM(MergerTree, MPH, MPB, 0, Doubble_Count= [])\n",
    "\n",
    "#Gets infall halos\n",
    "TreeList = MakeSEMTree(MergerTree, MPH, MPB, 0)\n",
    "\n",
    "\n",
    "print(TreeList)"
   ]
  },
  {
   "cell_type": "code",
   "execution_count": 15,
   "metadata": {
    "collapsed": true
   },
   "outputs": [],
   "source": [
    "A = np.array(TreeList)"
   ]
  },
  {
   "cell_type": "code",
   "execution_count": 17,
   "metadata": {},
   "outputs": [
    {
     "data": {
      "text/plain": [
       "array([[2809667873], [2796585936.0], [2783301630.0], [2769846645.0],\n",
       "       [2756389249.0], [2742883664.0], [2729323168.0], [2715731340.0],\n",
       "       [2702099134.0], [2688423512.0, 2674703432.0], [2674703419.0],\n",
       "       [2660936545.0], [2647118831.0, 2633249648.0], [2633249635.0],\n",
       "       [2619328533.0], [2605352351.0], [2591317076.0], [2577223957.0],\n",
       "       [2563069520.0, 2548852497.0],\n",
       "       [2548852483.0, 2534571474.0, 2534571477.0], [2534571464.0],\n",
       "       [2520224700.0, 2505811933.0], [2505811924.0, 2491330008.0],\n",
       "       [2491329988.0, 2476776395.0], [2476776382.0],\n",
       "       [2462152236.0, 2447455458.0], [2447455447.0], [2432682080.0],\n",
       "       [2417831893.0, 2402902330.0], [2402902322.0], [2387892376.0],\n",
       "       [2372801575.0], [2357627198.0, 2342366568.0],\n",
       "       [2342366551.0, 2327020111.0], [2327020085.0, 2311583876.0],\n",
       "       [2311583863.0], [2296057837.0, 2280441406.0], [2280441388.0],\n",
       "       [2264731856.0], [2248923275.0, 2233018312.0, 2233018315.0],\n",
       "       [2233018302.0], [2217014407.0, 2200908405.0, 2200908429.0],\n",
       "       [2200908401.0], [2184745792.0], [2168535402.0],\n",
       "       [2152284448.0, 2135969320.0], [2135969308.0],\n",
       "       [2119589717.0, 2103141907.0], [2103141879.0],\n",
       "       [2086620462.0, 2070026201.0], [2070026187.0], [2053358207.0],\n",
       "       [2036615378.0, 2019794667.0], [2019794657.0], [2002895198.0],\n",
       "       [1985917092.0],\n",
       "       [1968858773.0, 1951719344.0, 1951719343.0, 1951719347.0, 1951719359.0],\n",
       "       [1951719334.0, 1934496265.0], [1934496257.0, 1917188218.0],\n",
       "       [1917188195.0], [1899794574.0, 1882313557.0], [1882313549.0],\n",
       "       [1864745869.0], [1847092000.0, 1829348299.0],\n",
       "       [1829348268.0, 1811515772.0, 1811515777.0], [1811515750.0],\n",
       "       [1793593265.0], [1775578272.0, 1757467530.0], [1757467529.0],\n",
       "       [1739261552.0, 1720958642.0], [1720958630.0],\n",
       "       [1702562409.0, 1684068069.0], [1684068068.0], [1665475674.0],\n",
       "       [1646784900.0], [1627997102.0], [1609109914.0],\n",
       "       [1590125219.0, 1571039089.0], [1571039085.0]], dtype=object)"
      ]
     },
     "execution_count": 17,
     "metadata": {},
     "output_type": "execute_result"
    }
   ],
   "source": [
    "A"
   ]
  },
  {
   "cell_type": "code",
   "execution_count": null,
   "metadata": {
    "scrolled": true
   },
   "outputs": [],
   "source": [
    "#calculates the doubble count of mass\n",
    "Out = CountDCM(MergerTree, MPH, Doubble_Count= [])\n",
    "print(Out)\n",
    "print(np.log10(np.sum(np.power(10, np.array(Out)))))\n",
    "\n",
    "#Removes the doubble count\n",
    "Morig = [MergerTree.node[n]['M200c'] for n in MPB]\n",
    "RemoveDCM(MergerTree, MPH, MPB, 0, Doubble_Count= [])\n",
    "Mcorr = [MergerTree.node[n]['M200cCor'] for n in MPB]\n",
    "#Mcorr = [MergerTree.node[n]['M200cCor'] for n in MPB]\n",
    "Mdiff = np.log10(np.power(10, Morig) - np.power(10, Mcorr))\n",
    "print(np.column_stack((Morig,Mcorr,Mdiff)))\n"
   ]
  },
  {
   "cell_type": "code",
   "execution_count": 11,
   "metadata": {},
   "outputs": [
    {
     "data": {
      "image/png": "[encoded data removed]",
      "text/plain": [
       "<matplotlib.figure.Figure at 0x7fa3e2e1e4a8>"
      ]
     },
     "metadata": {},
     "output_type": "display_data"
    }
   ],
   "source": [
    "Redshift = (1/SF) -1\n",
    "#Sets Attributes of root\n",
    "nx.set_node_attributes(MergerTree, 'color', {MPH: 'blue'})\n",
    "\n",
    "#makes color mapping for plotting hte nodes\n",
    "nodes = MergerTree.nodes()\n",
    "colors = [MergerTree.node[n]['color'] for n in nodes]\n",
    "\n",
    "#makes the graph area\n",
    "fig = plt.figure()\n",
    "fig.set_axes\n",
    "#plt.ylim(Redshift,0)\n",
    "#plt.xlim(0.1, -3)\n",
    "ax = fig.add_axes()\n",
    "\n",
    "#Makes the positioning of the nodes\n",
    "pos = hierarchy_pos(MergerTree, MPH, height = 3) #2nd input is the root (MP at z = 0)\n",
    "#pos = MakePosition(MergerTree, MPH, MPB, MPH, 0)\n",
    "#'draws' the graph\n",
    "nx.draw_networkx(MergerTree, pos = pos, nodelist = nodes, node_color = colors, with_labels = False, node_size = 10, ax = ax)"
   ]
  },
  {
   "cell_type": "code",
   "execution_count": null,
   "metadata": {
    "collapsed": true
   },
   "outputs": [],
   "source": [
    "z = [((1/MergerTree.node[n]['scale'])-1) for n in MPB]"
   ]
  },
  {
   "cell_type": "code",
   "execution_count": null,
   "metadata": {},
   "outputs": [],
   "source": [
    "#Mdiff[Mdiff<0] = 0\n",
    "\n",
    "#PLOT\n",
    "fig1 = plt.figure(1)\n",
    "#Plot Data-model\n",
    "frame1=fig1.add_axes((.1,.3,.8,.6))\n",
    "#xstart, ystart, xend, yend [units are fraction of the image frame, from bottom left corner]\n",
    "plt.plot(z,Morig, label = 'orig')\n",
    "plt.plot(z,Mcorr, '--', label = 'corr')\n",
    "frame1.set_xticklabels([]) #Remove x-tic labels for the first frame\n",
    "plt.legend(loc = 1)\n",
    "plt.plot()\n",
    "\n",
    "#Residual plot\n",
    "frame2=fig1.add_axes((.1,.1,.8,.2))  \n",
    "plt.plot(z,Mdiff)\n",
    "plt.plot()"
   ]
  },
  {
   "cell_type": "code",
   "execution_count": null,
   "metadata": {},
   "outputs": [],
   "source": [
    "pd.DataFrame([x[1] for x in MergerTree.nodes(data = True)], index=[x[0] for x in MergerTree.nodes(data = True)]).reset_index()"
   ]
  },
  {
   "cell_type": "code",
   "execution_count": null,
   "metadata": {},
   "outputs": [],
   "source": [
    "A = MergerTree.nodes(data = True)"
   ]
  },
  {
   "cell_type": "code",
   "execution_count": null,
   "metadata": {},
   "outputs": [],
   "source": [
    "MergerTree2 = nx.Graph()\n",
    "MergerTree2.add_nodes_from(MergerTree.nodes(data = True))"
   ]
  },
  {
   "cell_type": "code",
   "execution_count": null,
   "metadata": {},
   "outputs": [],
   "source": [
    "pd.DataFrame([x[1] for x in MergerTree2.nodes(data = True)], index=[x[0] for x in MergerTree2.nodes(data = True)]).reset_index()"
   ]
  },
  {
   "cell_type": "code",
   "execution_count": null,
   "metadata": {},
   "outputs": [],
   "source": [
    "MakeSEMTree(MergerTree, MPH, MPB, 0)"
   ]
  },
  {
   "cell_type": "code",
   "execution_count": null,
   "metadata": {},
   "outputs": [],
   "source": [
    "MergerTree.node[MPH]"
   ]
  },
  {
   "cell_type": "code",
   "execution_count": null,
   "metadata": {
    "collapsed": true
   },
   "outputs": [],
   "source": []
  }
 ],
 "metadata": {
  "kernelspec": {
   "display_name": "Python [default]",
   "language": "python",
   "name": "python3"
  },
  "language_info": {
   "codemirror_mode": {
    "name": "ipython",
    "version": 3
   },
   "file_extension": ".py",
   "mimetype": "text/x-python",
   "name": "python",
   "nbconvert_exporter": "python",
   "pygments_lexer": "ipython3",
   "version": "3.5.3"
  }
 },
 "nbformat": 4,
 "nbformat_minor": 2
}
