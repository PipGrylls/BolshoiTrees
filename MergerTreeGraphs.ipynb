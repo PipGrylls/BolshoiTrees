{
 "cells": [
  {
   "cell_type": "code",
   "execution_count": null,
   "metadata": {
    "collapsed": true
   },
   "outputs": [],
   "source": [
    "import numpy as np #alloys numpy arrays to be used\n",
    "import matplotlib as mpl #see next comment\n",
    "import matplotlib.pyplot as plt #allows use of plt. to plot figures\n",
    "import pandas as pd\n",
    "import networkx as nx #https://networkx.readthedocs.io/en/stable/index.html  #Aric A. Hagberg, Daniel A. Schult and Pieter J. Swart, “Exploring network structure, dynamics, and function using NetworkX”, in Proceedings of the 7th Python in Science Conference (SciPy2008), Gäel Varoquaux, Travis Vaught, and Jarrod Millman (Eds), (Pasadena, CA USA), pp. 11–15, Aug 2008\n",
    "import os\n",
    "%matplotlib inline"
   ]
  },
  {
   "cell_type": "code",
   "execution_count": null,
   "metadata": {
    "collapsed": true
   },
   "outputs": [],
   "source": [
    "Header = [\"scale\", \"id\", \"desc_scale\", \"desc_id\", \"num_prog\", \"pid\", \"upid\", \"desc_pid\", \"phantom\", \"sam_mvir\", \"mvir\", \"rvir\", \"rs\", \"vrms\", \"mmp\", \"scale_of_last_MM\", \"vmax\", \"x\", \"y\", \"z\", \"vx\", \"vy\", \"vz\", \"Jx\", \"Jy\", \"Jz\", \"Spin\", \"Breadth_first_ID\", \"Depth_first_ID\", \"Tree_root_ID\", \"Orig_halo_ID\", \"Snap_num\", \"Next_coprogenitor_depthfirst_ID\", \"Last_progenitor_depthfirst_ID\", \"Last_mainleaf_depthfirst_ID\", \"Tidal_Force\", \"Tidal_ID\", \"Rs_Klypin\", \"Mvir_all\", \"M200b\", \"M200c\", \"M500c\", \"M2500c\", \"Xoff\", \"Voff\", \"Spin_Bullock\", \"b_to_a\", \"c_to_a\", \"Ax\", \"Ay\", \"Az\", \"b_to_a500c\", \"c_to_a500c\", \"Ax500c\", \"Ay500c\", \"Az500c\", \"T/|U|\", \"M_pe_Behroozi\", \"M_pe_Diemer\" ]"
   ]
  },
  {
   "cell_type": "markdown",
   "metadata": {},
   "source": [
    "Finds the first merger tree above a given size"
   ]
  },
  {
   "cell_type": "code",
   "execution_count": null,
   "metadata": {},
   "outputs": [],
   "source": [
    "Size = 12\n",
    "Files = os.listdir(\"/data/B-P50Mpc/Processed\")\n",
    "for File in Files:\n",
    "    df = pd.read_csv(\"/data/B-P50Mpc/Processed/%s\" %(File), delim_whitespace = True, names = Header)\n",
    "    if(np.log10(df[df.scale == 1.00231].M200c[0])>Size):\n",
    "        print(File)\n",
    "        break"
   ]
  },
  {
   "cell_type": "code",
   "execution_count": null,
   "metadata": {
    "collapsed": true
   },
   "outputs": [],
   "source": [
    "df = pd.read_csv(\"/data/B-P50Mpc/Processed/Tree2812608373.dat\", delim_whitespace = True, names = Header)"
   ]
  },
  {
   "cell_type": "code",
   "execution_count": null,
   "metadata": {},
   "outputs": [],
   "source": [
    "df.M200c = np.log10(df.M200c) #turns m200c into a log10 m200c"
   ]
  },
  {
   "cell_type": "code",
   "execution_count": null,
   "metadata": {
    "scrolled": true
   },
   "outputs": [],
   "source": [
    "print(df.loc[:,['id','scale','M200c', 'upid', 'mmp', 'desc_id']]) #prints the things we care about from the DF"
   ]
  },
  {
   "cell_type": "code",
   "execution_count": null,
   "metadata": {},
   "outputs": [],
   "source": [
    "grouped = df.groupby('scale') # creates and prints a grouped version of the dataframe\n",
    "for name, group in grouped:\n",
    "    print(group.loc[:,['id','scale','M200c', 'upid', 'mmp', 'desc_id']])"
   ]
  },
  {
   "cell_type": "markdown",
   "metadata": {},
   "source": [
    "Function to correctly postion nodes in higherarchical tree\n",
    "\n",
    "https://stackoverflow.com/questions/29586520/can-one-get-hierarchical-graphs-from-networkx-with-python-3/29597209#29597209?newreg=dcff13a7effb4b1985b768cbcebadc66\n",
    "\n",
    "Function to define the Main Progenitor\n",
    "\n",
    "Function to define Sub(sub)-halos\n",
    "\n",
    "Function to calculate the doubblecount in mass"
   ]
  },
  {
   "cell_type": "code",
   "execution_count": null,
   "metadata": {
    "collapsed": true
   },
   "outputs": [],
   "source": [
    "\"\"\"def hierarchy_pos(G, root, width=1., vert_gap = 0.2, vert_loc = 0, xcenter = 0.5, \n",
    "                  pos = None, parent = None):\n",
    "    '''If there is a cycle that is reachable from root, then this will see infinite recursion.\n",
    "       G: the graph\n",
    "       root: the root node of current branch\n",
    "       width: horizontal space allocated for this branch - avoids overlap with other branches\n",
    "       vert_gap: gap between levels of hierarchy\n",
    "       vert_loc: vertical location of root\n",
    "       xcenter: horizontal location of root\n",
    "       pos: a dict saying where all nodes go if they have been assigned\n",
    "       parent: parent of this branch.'''\n",
    "    if pos == None:\n",
    "        pos = {root:(xcenter,vert_loc)}\n",
    "    else:\n",
    "        pos[root] = (xcenter, vert_loc)\n",
    "    neighbors = G.neighbors(root)\n",
    "    if parent != None:\n",
    "        neighbors.remove(parent)\n",
    "    if len(neighbors)!=0:\n",
    "        dx = width/len(neighbors) \n",
    "        nextx = xcenter - width/2 - dx/2\n",
    "        for neighbor in neighbors:\n",
    "            nextx += dx\n",
    "            pos = hierarchy_pos(G,neighbor, width = dx, vert_gap = vert_gap, \n",
    "                                vert_loc = vert_loc-vert_gap, xcenter=nextx, pos=pos, \n",
    "                                parent = root)\n",
    "    return pos\"\"\"\n",
    "\n",
    "\n",
    "def hierarchy_pos(G, root, levels=None, width=1., height=1.):\n",
    "    '''If there is a cycle that is reachable from root, then this will see infinite recursion.\n",
    "       G: the graph\n",
    "       root: the root node\n",
    "       levels: a dictionary\n",
    "               key: level number (starting from 0)\n",
    "               value: number of nodes in this level\n",
    "       width: horizontal space allocated for drawing\n",
    "       height: vertical space allocated for drawing'''\n",
    "    TOTAL = \"total\"\n",
    "    CURRENT = \"current\"\n",
    "    def make_levels(levels, node=root, currentLevel=0, parent=None):\n",
    "        \"\"\"Compute the number of nodes for each level\n",
    "        \"\"\"\n",
    "        if not currentLevel in levels:\n",
    "            levels[currentLevel] = {TOTAL : 0, CURRENT : 0}\n",
    "        levels[currentLevel][TOTAL] += 1\n",
    "        neighbors = G.neighbors(node)\n",
    "        if parent is not None:\n",
    "            neighbors.remove(parent)\n",
    "        for neighbor in neighbors:\n",
    "            levels =  make_levels(levels, neighbor, currentLevel + 1, node)\n",
    "        return levels\n",
    "\n",
    "    def make_pos(pos, node=root, currentLevel=0, parent=None, vert_loc=0):\n",
    "        dx = 1/levels[currentLevel][TOTAL]\n",
    "        left = dx/2\n",
    "        pos[node] = ((left + dx*levels[currentLevel][CURRENT])*width, vert_loc)\n",
    "        levels[currentLevel][CURRENT] += 1\n",
    "        neighbors = G.neighbors(node)\n",
    "        if parent is not None:\n",
    "            neighbors.remove(parent)\n",
    "        for neighbor in neighbors:\n",
    "            pos = make_pos(pos, neighbor, currentLevel + 1, node, vert_loc-vert_gap)\n",
    "        return pos\n",
    "    if levels is None:\n",
    "        levels = make_levels({})\n",
    "    else:\n",
    "        levels = {l:{TOTAL: levels[l], CURRENT:0} for l in levels}\n",
    "    vert_gap = height / (max([l for l in levels])+1)\n",
    "    return make_pos({})\n",
    "\n",
    "def DefineMPB(G, root, OnBranch = True, Parent = None, MPB = []):\n",
    "    neighbors = G.neighbors(root)\n",
    "    if Parent != None:\n",
    "        neighbors.remove(Parent)\n",
    "    if len(neighbors)!=0:\n",
    "        for i in neighbors:\n",
    "            if ((MergerTree.node[i]['mmp'] == 1) and OnBranch):\n",
    "                nx.set_node_attributes(G, 'MPB', {i: 1})\n",
    "                nx.set_node_attributes(G, 'color', {i: 'blue'})\n",
    "                MPB.append(i)\n",
    "                MPB = DefineMPB(G, i, Parent = root, MPB = MPB)\n",
    "            else:\n",
    "                nx.set_node_attributes(G, 'MPB', {i: 0})\n",
    "                nx.set_node_attributes(G, 'color', {i: 'red'})\n",
    "                DefineMPB(G, i, OnBranch = False, Parent = root)\n",
    "    return MPB\n",
    "                \n",
    "def DefineSubHalos(G, root, Parent = None, OnBranch = True, SubSub = False):\n",
    "    neighbors = G.neighbors(root)\n",
    "    if Parent != None:\n",
    "        neighbors.remove(Parent)\n",
    "    if len(neighbors)!=0:\n",
    "        for i in neighbors:\n",
    "            if ((MergerTree.node[i]['upid'] != -1) and OnBranch):\n",
    "                nx.set_node_attributes(G, 'SubHalo', {i: 1})\n",
    "                if MergerTree.node[i]['upid'] != MergerTree.node[i]['pid'] and SubSub:\n",
    "                    nx.set_node_attributes(G, 'color', {i: 'green'})\n",
    "                else:\n",
    "                    nx.set_node_attributes(G, 'color', {i: 'yellow'})\n",
    "                DefineSubHalos(G, i, Parent = root, OnBranch = True)\n",
    "            elif (MergerTree.node[i]['MPB'] == 1):\n",
    "                nx.set_node_attributes(G, 'SubHalo', {i: 0})\n",
    "                DefineSubHalos(G, i, Parent = root, OnBranch = True)\n",
    "            else:                \n",
    "                DefineSubHalos(G, i, Parent = root, OnBranch = False)\n",
    "                nx.set_node_attributes(G, 'SubHalo', {i: 0})\n",
    "                \n",
    "def CountDCM(G, root, Parent = None, OnBranch = True, MassAtMerge = None, Doubble_Count = [], MaxDepth = None, Depth = None):\n",
    "    \n",
    "    if Depth != None:\n",
    "        Depth += 1\n",
    "    \n",
    "    if (MaxDepth == None) or (MaxDepth >= Depth):\n",
    "        #Finds the adjcent nodes and removes the parent\n",
    "        neighbors = G.neighbors(root)\n",
    "        if Parent != None:\n",
    "            neighbors.remove(Parent)\n",
    "\n",
    "\n",
    "        if len(neighbors)!=0:\n",
    "            for i in neighbors:\n",
    "                if ((MergerTree.node[i]['SubHalo'] == 1) and OnBranch):\n",
    "\n",
    "                    if len(neighbors) == 1:\n",
    "                        if MassAtMerge == None:\n",
    "                            Doubble_Count = CountDCM(G, i, Parent = root, MassAtMerge = MergerTree.node[i]['M200c'], Doubble_Count = Doubble_Count, MaxDepth = MaxDepth, Depth = Depth)\n",
    "                        else:\n",
    "                            Doubble_Count = CountDCM(G, i, Parent = root, MassAtMerge = MassAtMerge, Doubble_Count = Doubble_Count, MaxDepth = MaxDepth, Depth = Depth)\n",
    "                    else:\n",
    "                        if MassAtMerge == None:\n",
    "                            Doubble_Count = CountDCM(G, i, Parent = root, MassAtMerge = MergerTree.node[i]['M200c'], Doubble_Count = Doubble_Count, MaxDepth = MaxDepth, Depth = Depth)\n",
    "                        else:\n",
    "                            if MergerTree.node[i]['M200c'] > MassAtMerge:\n",
    "                                Doubble_Count.append(np.log10(np.power(10, MergerTree.node[i]['M200c']) - np.power(10, MassAtMerge)))\n",
    "                            Doubble_Count = CountDCM(G, i, Parent = root, Doubble_Count = Doubble_Count, MaxDepth = MaxDepth, Depth = Depth)\n",
    "\n",
    "                elif((MergerTree.node[i]['SubHalo'] == 0) and OnBranch and MassAtMerge != None):\n",
    "                    if MergerTree.node[i]['M200c'] > MassAtMerge:\n",
    "                        Doubble_Count.append(np.log10(np.power(10, MergerTree.node[i]['M200c']) - np.power(10, MassAtMerge)))            \n",
    "                else:\n",
    "                    Doubble_Count = CountDCM(G, i, Parent = root, Doubble_Count = Doubble_Count, MaxDepth = MaxDepth, Depth = Depth)\n",
    "\n",
    "        elif(MassAtMerge != None):\n",
    "            if MergerTree.node[root]['M200c'] > MassAtMerge:\n",
    "                Doubble_Count.append(np.log10(np.power(10, MergerTree.node[root]['M200c']) - np.power(10, MassAtMerge)))\n",
    "    elif(MassAtMerge != None):\n",
    "        if MergerTree.node[root]['M200c'] > MassAtMerge:\n",
    "            Doubble_Count.append(np.log10(np.power(10, MergerTree.node[root]['M200c']) - np.power(10, MassAtMerge)))\n",
    "    return Doubble_Count\n",
    "\n",
    "\n",
    "def RemoveDCM(G, root, MPB, Depth, Parent = None, OnBranch = True, MassAtMerge = None, Doubble_Count = []):\n",
    "    \n",
    "    #Finds the adjcent nodes and removes the parent\n",
    "    neighbors = G.neighbors(root)\n",
    "    if Parent != None:\n",
    "        neighbors.remove(Parent)\n",
    "\n",
    "\n",
    "    if len(neighbors)!=0:\n",
    "        for i in neighbors:\n",
    "            if ((MergerTree.node[i]['SubHalo'] == 1) and OnBranch):\n",
    "\n",
    "                if len(neighbors) == 1:\n",
    "                    if MassAtMerge == None:\n",
    "                        Doubble_Count = RemoveDCM(G, i, MPB, Depth+1, Parent = root, MassAtMerge = MergerTree.node[i]['M200c'], Doubble_Count = Doubble_Count)\n",
    "                    else:\n",
    "                        Doubble_Count = RemoveDCM(G, i, MPB, Depth+1, Parent = root, MassAtMerge = MassAtMerge, Doubble_Count = Doubble_Count)\n",
    "                else:\n",
    "                    if MassAtMerge == None:\n",
    "                        Doubble_Count = RemoveDCM(G, i, MPB, Depth+1, Parent = root, MassAtMerge = MergerTree.node[i]['M200c'], Doubble_Count = Doubble_Count)\n",
    "                    else:\n",
    "                        if MergerTree.node[i]['M200c'] > MassAtMerge:\n",
    "                            Doubble_Count.append(np.log10(np.power(10, MergerTree.node[i]['M200c']) - np.power(10, MassAtMerge)))\n",
    "                        Doubble_Count = RemoveDCM(G, i, MPB, Depth+1, Parent = root, Doubble_Count = Doubble_Count)\n",
    "\n",
    "            elif((MergerTree.node[i]['SubHalo'] == 0) and OnBranch and MassAtMerge != None):\n",
    "                if MergerTree.node[i]['M200c'] > MassAtMerge:\n",
    "                    Doubble_Count.append(np.log10(np.power(10, MergerTree.node[i]['M200c']) - np.power(10, MassAtMerge)))            \n",
    "            else:\n",
    "                Doubble_Count = RemoveDCM(G, i, MPB, Depth+1, Parent = root, Doubble_Count = Doubble_Count)\n",
    "\n",
    "    elif(MassAtMerge != None):\n",
    "        if MergerTree.node[root]['M200c'] > MassAtMerge:\n",
    "            Doubble_Count.append(np.log10(np.power(10, MergerTree.node[root]['M200c']) - np.power(10, MassAtMerge)))\n",
    "    \n",
    "    if len(neighbors) > 1:\n",
    "        Doubble_Count = []\n",
    "    else:\n",
    "        MergerTree.node[MPB[Depth]]['M200c'] = np.log10(np.power(10, MergerTree.node[MPB[Depth]]['M200c']) - np.sum(np.power(10, Doubble_Count)))\n",
    "    return Doubble_Count"
   ]
  },
  {
   "cell_type": "markdown",
   "metadata": {},
   "source": [
    "Reads DF to create network "
   ]
  },
  {
   "cell_type": "code",
   "execution_count": null,
   "metadata": {},
   "outputs": [],
   "source": [
    "DF = df[df.scale > 0.25]\n",
    "MergerTree = nx.from_pandas_dataframe(DF.drop(0), \"id\", \"desc_id\", edge_attr = \"mmp\", create_using = nx.Graph())\n",
    "nx.set_node_attributes(MergerTree, 'scale', pd.Series(DF.scale.values, index=DF.id).to_dict())\n",
    "nx.set_node_attributes(MergerTree, 'M200c', pd.Series(DF.M200c.values, index=DF.id).to_dict())\n",
    "nx.set_node_attributes(MergerTree, 'mmp', pd.Series(DF.mmp.values, index=DF.id).to_dict())\n",
    "nx.set_node_attributes(MergerTree, 'upid', pd.Series(DF.upid.values, index=DF.id).to_dict())\n",
    "nx.set_node_attributes(MergerTree, 'pid', pd.Series(DF.pid.values, index=DF.id).to_dict())"
   ]
  },
  {
   "cell_type": "code",
   "execution_count": null,
   "metadata": {},
   "outputs": [],
   "source": [
    "#Sets Attributes of root\n",
    "nx.set_node_attributes(MergerTree, 'color', {2812608373: 'blue'})\n",
    "\n",
    "#sets the colors and MP/SUB properties of the halos\n",
    "MPB = DefineMPB(MergerTree, 2812608373, MPB = [2812608373])\n",
    "DefineSubHalos(MergerTree, 2812608373)\n",
    "\n",
    "#makes color mapping for plotting hte nodes\n",
    "nodes = MergerTree.nodes()\n",
    "colors = [MergerTree.node[n]['color'] for n in nodes]\n",
    "\n",
    "#Makes the positioning of the nodes\n",
    "pos = hierarchy_pos(MergerTree, 2812608373) #2nd input is the root (MP at z = 0)\n",
    "\n",
    "#'draws' the graph\n",
    "nx.draw(MergerTree, pos = pos, nodelist = nodes, node_color = colors, with_labels = False, node_size = 10)\n",
    "\n",
    "#calculates the doubble count of mass\n",
    "Out = CountDCM(MergerTree, 2812608373, Doubble_Count= [])\n",
    "print(Out)\n",
    "print(np.log10(np.sum(np.power(10, np.array(Out)))))\n",
    "\n",
    "Morig = [MergerTree.node[n]['M200c'] for n in MPB]\n",
    "RemoveDCM(MergerTree, 2812608373, MPB, 0, Doubble_Count= [])\n",
    "Mcorr = [MergerTree.node[n]['M200c'] for n in MPB]\n",
    "Mdiff = np.log10(np.power(10, Morig) - np.power(10, Mcorr))\n",
    "print(np.column_stack((Morig,Mcorr,Mdiff)))"
   ]
  },
  {
   "cell_type": "code",
   "execution_count": null,
   "metadata": {
    "collapsed": true
   },
   "outputs": [],
   "source": [
    "def MassSubtraction(G, root, Parent = None):\n",
    "    MPB  = DefineMPB(G, root, Parent = None, MPB = []) #gets the main projenitor branch\n",
    "    MaxDepth = len(MPB)\n",
    "    Outs = []\n",
    "    for i in range(0, MaxDepth):\n",
    "        Out = CountDCM(MergerTree, 2812608373, Doubble_Count = [], MaxDepth = i, Depth = 0)\n",
    "        Outs.append(np.log10(np.sum(np.power(10, np.array(Out)))))\n",
    "    \n",
    "    Morig = [MergerTree.node[n]['M200c'] for n in MPB]\n",
    "    \n",
    "    for i in range(0, MaxDepth - 1):\n",
    "        MergerTree.node[MPB[i]]['M200c'] = np.log10(np.power(10, MergerTree.node[MPB[i]]['M200c']) - (np.power(10, Outs[i+1]) -  np.power(10, Outs[i])))\n",
    "    \n",
    "    Mcorr = [MergerTree.node[n]['M200c'] for n in MPB]\n",
    "    \n",
    "    return Morig, Mcorr"
   ]
  },
  {
   "cell_type": "code",
   "execution_count": null,
   "metadata": {},
   "outputs": [],
   "source": [
    "MassSubtraction(MergerTree, 2812608373)"
   ]
  },
  {
   "cell_type": "code",
   "execution_count": null,
   "metadata": {},
   "outputs": [],
   "source": [
    "A = np.array([12.110825310054965, 12.110421346473956, 12.113642582771741, 12.114377429786156, 12.11169927757355, 12.110993517377995, 12.104589527179373, 12.100542850012465, 12.099197055379921, 12.096562438374136, 12.091596620810058, 12.08700012079599, 12.084111351940678, 12.082928915015131, 12.077803798076088, 12.074304344001435, 12.071513805095089, 12.069520100835227, 12.066214075471244, 12.061150780928548, 12.059298292408071, 12.055416559840488, 12.050534419540124, 12.04879127384841, 12.046300019652969, 12.044422155711842, 12.048130927028968, 12.043558746914734, 12.048053173115608, 12.046924174230035, 12.045870392449361, 12.044657333234866, 12.043440876244473, 12.042102768037303, 12.039414119176136, 12.039889797736182, 12.036149629745854, 12.03726709456871, 12.042654253167793, 12.043440876244473, 12.040760524228698, 12.038977622332691, 12.037147503632555, 12.03973129609869, 12.04123473117143, 12.042654253167793, 12.045322978786658, 12.046182890740882, 12.048635988432649, 12.050341081834084, 12.047080072816257, 12.044108387446119, 12.040760524228698, 12.038659894302496, 12.035469763481283, 12.031044716583706, 12.026819159241226, 12.023005397249936])\n",
    "B = np.array([12.110825310054965, 12.110421346473956, 12.113642582771741, 12.114377429786156, 12.11169927757355, 12.110993517377995, 12.10379534275325, 12.100329250710812, 12.099197055379921, 12.096562438374136, 12.091596620810058, 12.086945021831385, 12.084111351940678, 12.082873297074634, 12.077803798076088, 12.074304344001435, 12.071513805095089, 12.069520100835227, 12.066214075471244, 12.060975360251065, 12.059239564155225, 12.055238807154925, 12.050654245708175, 12.048911543063788, 12.046300019652969, 12.044361420025885, 12.048130927028968, 12.043315151565327, 12.048053173115608, 12.046803353314489, 12.0452644037701, 12.044657333234866, 12.043075352388925, 12.041858354430083, 12.039291190492447, 12.039090915576034, 12.036273450756884, 12.036834577692879, 12.041860432860707, 12.043258152772083, 12.03971762262224, 12.038731443102604, 12.037023931606175, 12.039547044503246, 12.041173469053268, 12.042471198364751, 12.04495899707886, 12.045698461586236, 12.048696129297596, 12.050101262181155, 12.04671791236709, 12.043621676752311, 12.040637936563574, 12.037797044025428, 12.035221627249944, 12.028720221052769, 12.024471710941462, 12.023005397249936])\n",
    "\n",
    "\n",
    "C = np.log10(np.power(10, A) - np.power(10, B))\n",
    "\n",
    "print(C)\n",
    "C = np.nan_to_num(C)\n",
    "C[C == 0] = -np.inf\n",
    "print(C)\n",
    "print(np.log10(np.sum(np.power(10, C))))"
   ]
  },
  {
   "cell_type": "code",
   "execution_count": null,
   "metadata": {},
   "outputs": [],
   "source": [
    "CountDCM(MergerTree, 2812608373, Doubble_Count = [], MaxDepth = 10, Depth = 0)"
   ]
  },
  {
   "cell_type": "code",
   "execution_count": null,
   "metadata": {},
   "outputs": [],
   "source": [
    "MPB  = DefineMPB(MergerTree, 2812608373, Parent = None, MPB = []) #gets the main projenitor branch\n",
    "MaxDepth = len(MPB)\n",
    "print(MaxDepth)"
   ]
  },
  {
   "cell_type": "code",
   "execution_count": null,
   "metadata": {
    "collapsed": true
   },
   "outputs": [],
   "source": []
  },
  {
   "cell_type": "code",
   "execution_count": null,
   "metadata": {},
   "outputs": [],
   "source": [
    "\n"
   ]
  },
  {
   "cell_type": "code",
   "execution_count": null,
   "metadata": {
    "collapsed": true
   },
   "outputs": [],
   "source": []
  }
 ],
 "metadata": {
  "kernelspec": {
   "display_name": "Python [default]",
   "language": "python",
   "name": "python3"
  },
  "language_info": {
   "codemirror_mode": {
    "name": "ipython",
    "version": 3
   },
   "file_extension": ".py",
   "mimetype": "text/x-python",
   "name": "python",
   "nbconvert_exporter": "python",
   "pygments_lexer": "ipython3",
   "version": "3.5.3"
  }
 },
 "nbformat": 4,
 "nbformat_minor": 2
}
