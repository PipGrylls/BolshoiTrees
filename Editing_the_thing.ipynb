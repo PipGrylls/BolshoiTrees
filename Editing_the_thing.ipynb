{
 "cells": [
  {
   "cell_type": "code",
   "execution_count": 1,
   "metadata": {
    "collapsed": true
   },
   "outputs": [],
   "source": [
    "import os\n",
    "from ipywidgets import FloatProgress\n",
    "from IPython.display import display\n",
    "from numba import jit"
   ]
  },
  {
   "cell_type": "code",
   "execution_count": 2,
   "metadata": {},
   "outputs": [
    {
     "name": "stdout",
     "output_type": "stream",
     "text": [
      "['tree_1_0_1.dat', 'tree_0_1_1.dat', 'tree_1_0_0.dat', 'tree_1_1_1.dat', 'tree_0_1_0.dat', 'tree_0_0_1.dat', 'tree_0_0_0.dat', 'tree_1_1_0.dat']\n"
     ]
    }
   ],
   "source": [
    "BolshoiFiles = os.listdir(\"/data/B-P50Mpc/Original_Data/\")\n",
    "print(BolshoiFiles)"
   ]
  },
  {
   "cell_type": "markdown",
   "metadata": {
    "collapsed": true
   },
   "source": [
    "BolshoiFiles = ['tree_1_1_0.dat']"
   ]
  },
  {
   "cell_type": "code",
   "execution_count": null,
   "metadata": {
    "collapsed": true,
    "scrolled": true
   },
   "outputs": [],
   "source": [
    "#@jit\n",
    "def FUN1():\n",
    "    #BolshoiFiles = os.listdir(\"/data/B-P50Mpc/Original_Data/\")\n",
    "    for Box in BolshoiFiles:\n",
    "        outfile = open(\"/data/B-P50Mpc/Header.dat\", 'w')\n",
    "        with open(\"/data/B-P50Mpc/Original_Data/%s\" %(Box)) as infile:\n",
    "            for line in infile:\n",
    "                linestr = str.split(line)\n",
    "                if linestr[0] == '#tree':\n",
    "                    outfile.close()\n",
    "                    Treenum = linestr[1]\n",
    "                    outfile = open(\"/data/B-P50Mpc/Processed/Tree%s.dat\" %(Treenum), 'w')\n",
    "                else:\n",
    "                    outfile.write(str(line))"
   ]
  },
  {
   "cell_type": "code",
   "execution_count": null,
   "metadata": {
    "collapsed": true
   },
   "outputs": [],
   "source": [
    "FUN1()"
   ]
  },
  {
   "cell_type": "code",
   "execution_count": 3,
   "metadata": {
    "scrolled": true
   },
   "outputs": [
    {
     "name": "stderr",
     "output_type": "stream",
     "text": [
      "The installed widget Javascript is the wrong version. It must satisfy the semver range ~2.1.4.\n"
     ]
    },
    {
     "data": {
      "application/vnd.jupyter.widget-view+json": {
       "model_id": "f5f034cbb48444178ac673a47986dfed"
      }
     },
     "metadata": {},
     "output_type": "display_data"
    },
    {
     "name": "stdout",
     "output_type": "stream",
     "text": [
      "5724\n"
     ]
    }
   ],
   "source": [
    "TreeFiles = os.listdir(\"/data/B-P50Mpc/Processed/\")\n",
    "f = FloatProgress(min = 0, max = len(TreeFiles))\n",
    "display(f)\n",
    "RemoveList = []\n",
    "KeepList = []\n",
    "Biggest = 0\n",
    "for Tree in TreeFiles:\n",
    "    with open(\"/data/B-P50Mpc/Processed/%s\" %(Tree), \"r\") as File:\n",
    "        f.value += 1\n",
    "        for line in File:\n",
    "            line = str.split(line)\n",
    "            Test = line\n",
    "            if(float(line[40]) > 10.0**11.845):#**10.845): #should be 11.845  (for res 12 because of little h)\n",
    "                KeepList.append([Tree, float(line[40])])\n",
    "                break\n",
    "            else:\n",
    "                RemoveList.append([Tree, float(line[40])])\n",
    "                break\n",
    "print(len(KeepList))"
   ]
  },
  {
   "cell_type": "code",
   "execution_count": 4,
   "metadata": {
    "collapsed": true
   },
   "outputs": [],
   "source": [
    "SortedKeepList = sorted(KeepList, key=lambda x : x[1])\n",
    "for i, File in enumerate(SortedKeepList):\n",
    "    os.system(\"cp /data/B-P50Mpc/Processed/%s /data/B-P50Mpc/Above12/Tree%s.dat\" %(File[0], i) )"
   ]
  },
  {
   "cell_type": "markdown",
   "metadata": {},
   "source": [
    "Cells below are what needs to be done via bash %%bash is commented for saftey"
   ]
  },
  {
   "cell_type": "code",
   "execution_count": 5,
   "metadata": {
    "collapsed": true
   },
   "outputs": [],
   "source": [
    "%%bash\n",
    "cd /data/B-P50Mpc/Above12/\n",
    "\n",
    "for file in *.dat; do awk '{if ($1 > 0.143) print $0}' $file >> ./RedshiftCut/$file; done #should be 0.25\n",
    "\n",
    "cd /data/B-P50Mpc/Above12/RedshiftCut\n",
    "\n",
    "for file in *.dat; do tr -s ' ' ',' < $file >./CSVed/$file; done\n",
    "\n",
    "cd /data/B-P50Mpc/Above12/RedshiftCut/CSVed\n",
    "\n",
    "for file in *.dat; do sed -i 's/,//' $file; done"
   ]
  },
  {
   "cell_type": "code",
   "execution_count": 6,
   "metadata": {},
   "outputs": [
    {
     "name": "stderr",
     "output_type": "stream",
     "text": [
      "rm: missing operand\n",
      "Try 'rm --help' for more information.\n"
     ]
    }
   ],
   "source": [
    "%%bash\n",
    "\n",
    "##The only reason to do this is if you have new bolshoi boxes\n",
    "#cd /data/B-P50Mpc/Processed/\n",
    "\n",
    "#find . -name \"*.dat\" -print0 | xargs -0 rm\n",
    "##\n",
    "\n",
    "cd /data/B-P50Mpc/Above12/\n",
    "\n",
    "find . -name \"*.dat\" -print0 | xargs -0 rm\n",
    "\n",
    "cd /data/B-P50Mpc/Above12/RedshiftCut\n",
    "\n",
    "find . -name \"*.dat\" -print0 | xargs -0 rm"
   ]
  },
  {
   "cell_type": "code",
   "execution_count": null,
   "metadata": {
    "collapsed": true
   },
   "outputs": [],
   "source": []
  }
 ],
 "metadata": {
  "anaconda-cloud": {},
  "kernelspec": {
   "display_name": "Python [default]",
   "language": "python",
   "name": "python3"
  },
  "language_info": {
   "codemirror_mode": {
    "name": "ipython",
    "version": 3
   },
   "file_extension": ".py",
   "mimetype": "text/x-python",
   "name": "python",
   "nbconvert_exporter": "python",
   "pygments_lexer": "ipython3",
   "version": "3.5.3"
  },
  "widgets": {
   "state": {
    "f5f034cbb48444178ac673a47986dfed": {
     "views": [
      {
       "cell_index": 5
      }
     ]
    }
   },
   "version": "1.2.0"
  }
 },
 "nbformat": 4,
 "nbformat_minor": 1
}
