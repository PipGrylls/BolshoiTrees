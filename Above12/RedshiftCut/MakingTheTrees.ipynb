{
 "cells": [
  {
   "cell_type": "code",
   "execution_count": 1,
   "metadata": {
    "collapsed": true
   },
   "outputs": [],
   "source": [
    "import pandas as pd\n",
    "import numpy as np\n",
    "import math\n",
    "import matplotlib.pyplot as plt\n",
    "import os\n",
    "from ipywidgets import FloatProgress\n",
    "from IPython.display import display\n",
    "from time import time\n",
    "import sys\n",
    "sys.path.append(\"/home/pg1g15/Documents/SEM_Container\")\n",
    "import SEM\n",
    "from numba import jit"
   ]
  },
  {
   "cell_type": "code",
   "execution_count": 2,
   "metadata": {
    "collapsed": true
   },
   "outputs": [],
   "source": [
    "Header = [\"scale\", \"id\", \"desc_scale\", \"desc_id\", \"num_prog\", \"pid\", \"upid\", \"desc_pid\", \"phantom\", \"sam_mvir\", \"mvir\", \"rvir\", \"rs\", \"vrms\", \"mmp?\", \"scale_of_last_MM\", \"vmax\", \"x\", \"y\", \"z\", \"vx\", \"vy\", \"vz\", \"Jx\", \"Jy\", \"Jz\", \"Spin\", \"Breadth_first_ID\", \"Depth_first_ID\", \"Tree_root_ID\", \"Orig_halo_ID\", \"Snap_num\", \"Next_coprogenitor_depthfirst_ID\", \"Last_progenitor_depthfirst_ID\", \"Last_mainleaf_depthfirst_ID\", \"Tidal_Force\", \"Tidal_ID\", \"Rs_Klypin\", \"Mvir_all\", \"M200b\", \"M200c\", \"M500c\", \"M2500c\", \"Xoff\", \"Voff\", \"Spin_Bullock\", \"b_to_a\", \"c_to_a\", \"Ax\", \"Ay\", \"Az\", \"b_to_a500c\", \"c_to_a500c\", \"Ax500c\", \"Ay500c\", \"Az500c\", \"T/|U|\", \"M_pe_Behroozi\", \"M_pe_Diemer\" ]"
   ]
  },
  {
   "cell_type": "code",
   "execution_count": 3,
   "metadata": {},
   "outputs": [
    {
     "name": "stdout",
     "output_type": "stream",
     "text": [
      "5724\n"
     ]
    }
   ],
   "source": [
    "Files = os.listdir(\"./CSVed\")\n",
    "print(len(Files))"
   ]
  },
  {
   "cell_type": "code",
   "execution_count": 4,
   "metadata": {
    "collapsed": true
   },
   "outputs": [],
   "source": [
    "def GroupIt():\n",
    "    Groups = []\n",
    "    f = FloatProgress(min = 0, max = len(Files))\n",
    "    display(f)\n",
    "    for File in Files:\n",
    "        Groups = []\n",
    "        #builds and groups the data\n",
    "        df  = pd.read_csv(\"./CSVed/%s\" %(File), header = None, names = Header)\n",
    "        grouped = df.groupby('scale')\n",
    "        #Makes a list of all the groups\n",
    "        for name, group in grouped:\n",
    "            Groups.append(name)\n",
    "        Groups.reverse()\n",
    "        Outfile = open(\"./SEMunbinned/%s\" %(File), \"w\")\n",
    "        Outfile.write(\"START\\n\")\n",
    "        for i in range(len(Groups) - 1):\n",
    "            NextStep = grouped.get_group(Groups[i])\n",
    "            CurrentStep = grouped.get_group(Groups[i + 1])\n",
    "            NextMproID = NextStep.iloc[0]['id'].astype(int)  \n",
    "            Outfile.write(\"mpro \" + str(CurrentStep.iloc[0]['scale']) +\" \"+ str(CurrentStep.iloc[0]['M200c']) +\" \"+ str(CurrentStep.iloc[0]['rvir']) +\" \"+ str(CurrentStep.iloc[0]['rs']) +\" \"+ str(CurrentStep.iloc[0]['vmax']) + \"\\n\")\n",
    "            for index, Halo in CurrentStep.iterrows():\n",
    "                #print(Halo)\n",
    "                if Halo['pid'] == -1:\n",
    "                    NextID = Halo['desc_id'].astype(int)\n",
    "                    #print(NextID)\n",
    "                    This = NextStep[NextStep['id'] == NextID]\n",
    "                    if This.iloc[0]['pid'] == NextMproID:\n",
    "                        Outfile.write( \"sat \" + str(Halo['scale']) +\" \"+ str(Halo['M200c']) +\" \"+ str(Halo['rvir']) +\" \"+ str(Halo['rs']) +\" \"+ str(Halo['vmax']) + \"\\n\")\n",
    "        f.value += 1"
   ]
  },
  {
   "cell_type": "code",
   "execution_count": 5,
   "metadata": {},
   "outputs": [
    {
     "name": "stderr",
     "output_type": "stream",
     "text": [
      "The installed widget Javascript is the wrong version. It must satisfy the semver range ~2.1.4.\n"
     ]
    },
    {
     "data": {
      "application/vnd.jupyter.widget-view+json": {
       "model_id": "4193abf3e91f40988ef94d34e32af3af"
      }
     },
     "metadata": {},
     "output_type": "display_data"
    }
   ],
   "source": [
    "GroupIt()"
   ]
  },
  {
   "cell_type": "code",
   "execution_count": 6,
   "metadata": {
    "collapsed": true
   },
   "outputs": [],
   "source": [
    "BadTrees = []\n",
    "SaveFile = \"/home/pg1g15/Documents/SEM_Container/Merger_Trees/Mpc_100_Res12/\"\n",
    "def BinTrees(TreeFiles): \n",
    "    StartTime = time()\n",
    "    TimeStep = 0\n",
    "    RedshiftStep = 0\n",
    "    MassAtLastWrite = 0\n",
    "    ResolvedMass = -300\n",
    "    Resolution = 10**8\n",
    "    Switch = True\n",
    "    Exception = False\n",
    "    f = FloatProgress(min = 0, max = len(Files))\n",
    "    display(f)\n",
    "    for File in TreeFiles:\n",
    "        \"\"\"\n",
    "        print(File)\n",
    "        if(File == 'Tree91.dat'):\n",
    "            continue\n",
    "        if(File == 'Tree103.dat'):\n",
    "            continue\n",
    "        if(File == 'Tree47.dat'):\n",
    "            continue\n",
    "        \"\"\"\n",
    "        Switch = True\n",
    "        RedshiftStep = 0\n",
    "        MassAtLastWrite = 0\n",
    "        ResolvedMass = -300\n",
    "        f.value += 1\n",
    "        with open(\"./SEMunbinned/%s\" %(File), \"r\") as InputFile, open((SaveFile + \"%s\" %(File)), \"w\") as OutputFile:\n",
    "            for LineStr in InputFile:\n",
    "                Line = str.split(LineStr) \n",
    "                if Line[0] == \"START\":\n",
    "                    OutputFile.write(\"START\\n\")\n",
    "                else:\n",
    "                    Line[1] = float(Line[1])\n",
    "                    Line[1] = (1 / Line[1]) - 1\n",
    "                    L1asT = SEM.RedshiftToTime(Line[1])\n",
    "                    Line[2] = float(Line[2])\n",
    "\n",
    "                    if Line[0] == \"mpro\":\n",
    "                        if Switch == True:\n",
    "                            OutputFile.write( \"mpro  %s  %s  %s  %s\\n\" %(Line[1], math.log10(Line[2]), Line[3], Line[4]) )\n",
    "                            MassAtLastWrite = Line[2]\n",
    "                            Switch = False\n",
    "                        elif L1asT >= (TimeStep + 0.1):\n",
    "                            if MassAtLastWrite - Line[2] - 10**ResolvedMass > 0:                            \n",
    "                                OutputFile.write( \"1  acc  %s  %s  %s  1\\n\" %(Line[1], math.log10(MassAtLastWrite - Line[2] - 10**ResolvedMass), Line[5]) ) \n",
    "                            else:\n",
    "                                OutputFile.write( \"1  acc  %s  %s  %s  -1\\n\" %(Line[1], math.log10(abs(MassAtLastWrite - Line[2] - 10**ResolvedMass)), Line[5]) ) \n",
    "                            MassAtLastWrite = Line[2]\n",
    "                            ResolvedMass = 0\n",
    "                            try:\n",
    "                                OutputFile.write( \"mpro  %s  %s  %s  %s  %s\\n\" %(Line[1], math.log10(Line[2]), Line[3], Line[4], Line[5]) )\n",
    "                            except:\n",
    "                                print(File)\n",
    "                                BadTrees.append(int(File[4:-4]))\n",
    "                                Exception = True\n",
    "                                break\n",
    "                            RedshiftStep += 0.01\n",
    "                    elif Line[0] == \"sat\" and Line[2] > Resolution:\n",
    "                        ResolvedMass = math.log10(10**ResolvedMass + Line[2])\n",
    "                        OutputFile.write( \"1  %s  %s  %s  %s  %s\\n\" %(Line[1], math.log10(Line[2]), Line[3], Line[4], Line[5]) )\n",
    "        if(Exception == True):\n",
    "            Exception = False\n",
    "            continue\n",
    "    print(BadTrees)\n",
    "    np.savetxt(SaveFile + \"BadTrees.txt\", np.array(BadTrees).astype(int))"
   ]
  },
  {
   "cell_type": "code",
   "execution_count": 7,
   "metadata": {
    "scrolled": true
   },
   "outputs": [
    {
     "name": "stderr",
     "output_type": "stream",
     "text": [
      "The installed widget Javascript is the wrong version. It must satisfy the semver range ~2.1.4.\n"
     ]
    },
    {
     "data": {
      "application/vnd.jupyter.widget-view+json": {
       "model_id": "b73ba968f06a46369caabb6fbde1ed73"
      }
     },
     "metadata": {},
     "output_type": "display_data"
    },
    {
     "name": "stdout",
     "output_type": "stream",
     "text": [
      "Tree1644.dat\n",
      "Tree2165.dat\n",
      "Tree1902.dat\n",
      "Tree778.dat\n",
      "Tree1925.dat\n",
      "Tree491.dat\n",
      "Tree1107.dat\n",
      "Tree170.dat\n",
      "Tree1436.dat\n",
      "Tree2971.dat\n",
      "Tree3036.dat\n",
      "Tree363.dat\n",
      "Tree2276.dat\n",
      "Tree2477.dat\n",
      "Tree249.dat\n",
      "Tree165.dat\n",
      "Tree3315.dat\n",
      "[1644, 2165, 1902, 778, 1925, 491, 1107, 170, 1436, 2971, 3036, 363, 2276, 2477, 249, 165, 3315]\n"
     ]
    }
   ],
   "source": [
    "BinTrees(Files)"
   ]
  },
  {
   "cell_type": "code",
   "execution_count": 8,
   "metadata": {},
   "outputs": [
    {
     "name": "stdout",
     "output_type": "stream",
     "text": [
      "17\n"
     ]
    }
   ],
   "source": [
    "print(len(BadTrees))"
   ]
  },
  {
   "cell_type": "markdown",
   "metadata": {},
   "source": [
    "When you are COMPLETELY DONE with the data files and have trees in SEM_Container"
   ]
  },
  {
   "cell_type": "code",
   "execution_count": 9,
   "metadata": {
    "collapsed": true
   },
   "outputs": [],
   "source": [
    "%%bash\n",
    "\n",
    "cd /data/B-P50Mpc/Above12/RedshiftCut/CSVed\n",
    "\n",
    "find . -name \"*.dat\" -print0 | xargs -0 rm\n",
    "\n",
    "cd /data/B-P50Mpc/Above12/RedshiftCut/SEMunbinned\n",
    "\n",
    "find . -name \"*.dat\" -print0 | xargs -0 rm"
   ]
  },
  {
   "cell_type": "markdown",
   "metadata": {
    "collapsed": true
   },
   "source": [
    "np.loadtxt(\"/home/pg1g15/Documents/SEM_Container/LinearTime100/BadTrees.txt\").astype(int)"
   ]
  }
 ],
 "metadata": {
  "anaconda-cloud": {},
  "kernelspec": {
   "display_name": "Python [default]",
   "language": "python",
   "name": "python3"
  },
  "language_info": {
   "codemirror_mode": {
    "name": "ipython",
    "version": 3
   },
   "file_extension": ".py",
   "mimetype": "text/x-python",
   "name": "python",
   "nbconvert_exporter": "python",
   "pygments_lexer": "ipython3",
   "version": "3.5.3"
  },
  "widgets": {
   "state": {
    "4193abf3e91f40988ef94d34e32af3af": {
     "views": [
      {
       "cell_index": 4
      }
     ]
    },
    "b73ba968f06a46369caabb6fbde1ed73": {
     "views": [
      {
       "cell_index": 6
      }
     ]
    }
   },
   "version": "1.2.0"
  }
 },
 "nbformat": 4,
 "nbformat_minor": 1
}
